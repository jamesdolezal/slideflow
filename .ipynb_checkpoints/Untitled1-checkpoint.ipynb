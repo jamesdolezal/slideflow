{
 "cells": [
  {
   "cell_type": "markdown",
   "id": "c05193fb",
   "metadata": {},
   "source": [
    "- train on lung dataset outcome cohort, no filters\n",
    "- train using hp from biscuit\n",
    "\n",
    "hp = sf.model.ModelParams(\n",
    "    model='xception',\n",
    "    tile_px=299,\n",
    "    tile_um=302,\n",
    "    batch_size=128,\n",
    "    epochs=[1],         # epochs 1, 3, 5, 10 used for initial sweep\n",
    "    early_stop=True,\n",
    "    early_stop_method='accuracy',\n",
    "    dropout=0.1,\n",
    "    uq=False,           # to be enabled in separate sub-experiments\n",
    "    hidden_layer_width=1024,\n",
    "    optimizer='Adam',\n",
    "    learning_rate=0.0001,\n",
    "    learning_rate_decay_steps=512,\n",
    "    learning_rate_decay=0.98,\n",
    "    loss='sparse_categorical_crossentropy',\n",
    "    normalizer='reinhard_fast',\n",
    "    include_top=False,\n",
    "    hidden_layers=2,\n",
    "    pooling='avg',\n",
    "    augment='xyrjb'\n",
    "    uq = true\n",
    ")\n",
    "\n",
    "- auroc_slide > 0.95\n",
    "- train on first crossfold\n",
    "\n",
    "- adv_training 5 models and do the same as brca\n",
    "- auroc \n",
    "\n",
    "- after this biscuit for unc"
   ]
  }
 ],
 "metadata": {
  "kernelspec": {
   "display_name": "Python [conda env:sf]",
   "language": "python",
   "name": "conda-env-sf-py"
  },
  "language_info": {
   "codemirror_mode": {
    "name": "ipython",
    "version": 3
   },
   "file_extension": ".py",
   "mimetype": "text/x-python",
   "name": "python",
   "nbconvert_exporter": "python",
   "pygments_lexer": "ipython3",
   "version": "3.8.13"
  }
 },
 "nbformat": 4,
 "nbformat_minor": 5
}
