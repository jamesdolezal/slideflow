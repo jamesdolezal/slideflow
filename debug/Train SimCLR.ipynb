{
 "cells": [
  {
   "cell_type": "code",
   "execution_count": null,
   "id": "c5cc5739-aa18-4ac8-9236-bb9c63cae08b",
   "metadata": {},
   "outputs": [],
   "source": [
    "# Note: this requires the `dev` branch of Slideflow as of 1/23/23\n",
    "import multiprocessing as mp\n",
    "import slideflow as sf\n",
    "print('Slideflow version:', sf.__version__)\n",
    "\n",
    "from slideflow.simclr import SlideflowBuilder\n",
    "from slideflow.simclr import run_simclr"
   ]
  },
  {
   "cell_type": "code",
   "execution_count": null,
   "id": "bb28e509-6475-4deb-a88b-058fba6592ba",
   "metadata": {},
   "outputs": [],
   "source": [
    "# Load a Slideflow project that already has tiles extracted\n",
    "P = sf.Project('/mnt/data/projects/CYTOLOGY')\n",
    "\n",
    "# Next, load a TFRecord dataset, and clip it to maximum of 5000 tiles per slide (optional)\n",
    "dataset = P.dataset(tile_px=96, tile_um='40x').clip(5000)\n",
    "\n",
    "# Load the ground-truth labels for each slide\n",
    "labels, unique_labels = dataset.labels('benign_malignant')"
   ]
  },
  {
   "cell_type": "code",
   "execution_count": null,
   "id": "ebd3caa7-7b03-4c00-8115-937091d4e0c4",
   "metadata": {},
   "outputs": [],
   "source": [
    "# Next, create or load a validation dataset.\n",
    "train_dts, val_dts = dataset.train_val_split(\n",
    "    'categorical',       # Type of model \n",
    "    labels=labels,       # Ground truth labels\n",
    "    val_strategy='fixed',# Not a cross-fold split, just single split\n",
    "    val_fraction=0.2,    # Fraction of data for validation\n",
    "    splits='/mnt/data/projects/CYTOLOGY/simclr_splits.json', # Save directory for split\n",
    ")\n",
    "\n",
    "print(\"Training dataset size: \", train_dts.num_tiles)\n",
    "print(\"Validation dataset size: \", val_dts.num_tiles)"
   ]
  },
  {
   "cell_type": "code",
   "execution_count": null,
   "id": "28b15b64-d509-4320-9ced-66356f995484",
   "metadata": {},
   "outputs": [],
   "source": [
    "# Create dataset builder, which SimCLR will use to create\n",
    "# the input pipeline for training\n",
    "builder = SlideflowBuilder(\n",
    "    train_dts=train_dts.balance(strategy='slide'),\n",
    "    val_dts=val_dts.balance(strategy='slide'),\n",
    "    labels=labels,\n",
    "    num_classes=2\n",
    ")"
   ]
  },
  {
   "cell_type": "code",
   "execution_count": null,
   "id": "6069d141-725f-4fab-886f-4d648565cdb5",
   "metadata": {},
   "outputs": [],
   "source": [
    "# Set up the SimCLR flags\n",
    "simclr_flags = dict(\n",
    "    mode='train_then_eval',\n",
    "    train_mode='pretrain',\n",
    "    train_batch_size=256,\n",
    "    temperature=0.1,\n",
    "    learning_rate=0.075,\n",
    "    learning_rate_scaling='sqrt',\n",
    "    weight_decay=1e-4,\n",
    "    train_epochs=100,\n",
    "    image_size=96,\n",
    "    model_dir='/mnt/data/tmp/simclr_cytology_full_k1',\n",
    "    checkpoint_epochs=10,\n",
    "    use_tpu=False\n",
    ")"
   ]
  },
  {
   "cell_type": "code",
   "execution_count": null,
   "id": "cc74090f-1a2a-4112-98cc-93ac99221b4e",
   "metadata": {},
   "outputs": [],
   "source": [
    "# Train the SimCLR model\n",
    "run_simclr(builder, flags=simclr_flags)"
   ]
  },
  {
   "cell_type": "code",
   "execution_count": null,
   "id": "16331e47-7b22-4e60-bd38-228921f2827b",
   "metadata": {},
   "outputs": [],
   "source": []
  }
 ],
 "metadata": {
  "kernelspec": {
   "display_name": "Python 3",
   "language": "python",
   "name": "python3"
  },
  "language_info": {
   "codemirror_mode": {
    "name": "ipython",
    "version": 3
   },
   "file_extension": ".py",
   "mimetype": "text/x-python",
   "name": "python",
   "nbconvert_exporter": "python",
   "pygments_lexer": "ipython3",
   "version": "3.10.6 (main, Aug 11 2022, 13:36:31) [Clang 13.1.6 (clang-1316.0.21.2.5)]"
  },
  "vscode": {
   "interpreter": {
    "hash": "b0fa6594d8f4cbf19f97940f81e996739fb7646882a419484c72d19e05852a7e"
   }
  }
 },
 "nbformat": 4,
 "nbformat_minor": 5
}
