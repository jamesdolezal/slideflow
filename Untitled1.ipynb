{
 "cells": [
  {
   "cell_type": "markdown",
   "id": "48c2cf30",
   "metadata": {},
   "source": [
    "- train on lung dataset outcome cohort, no filters\n",
    "- train using hp from biscuit\n",
    "\n",
    "hp = sf.model.ModelParams(\n",
    "    model='xception',\n",
    "    tile_px=299,\n",
    "    tile_um=302,\n",
    "    batch_size=128,\n",
    "    epochs=[1],         # epochs 1, 3, 5, 10 used for initial sweep\n",
    "    early_stop=True,\n",
    "    early_stop_method='accuracy',\n",
    "    dropout=0.1,\n",
    "    uq=False,           # to be enabled in separate sub-experiments\n",
    "    hidden_layer_width=1024,\n",
    "    optimizer='Adam',\n",
    "    learning_rate=0.0001,\n",
    "    learning_rate_decay_steps=512,\n",
    "    learning_rate_decay=0.98,\n",
    "    loss='sparse_categorical_crossentropy',\n",
    "    normalizer='reinhard_fast',\n",
    "    include_top=False,\n",
    "    hidden_layers=2,\n",
    "    pooling='avg',\n",
    "    augment='xyrjb'\n",
    "    uq = true\n",
    ")\n",
    "\n",
    "- auroc_slide > 0.95\n",
    "- train on first crossfold\n",
    "\n",
    "- adv_training 5 models and do the same as brca\n",
    "- auroc \n",
    "\n",
    "- after this biscuit for unc\n",
    "\n",
    "\n",
    "\n",
    "raw soffttmax for unc.check auroc"
   ]
  },
  {
   "cell_type": "code",
   "execution_count": 2,
   "id": "b07af353",
   "metadata": {},
   "outputs": [
    {
     "ename": "SyntaxError",
     "evalue": "invalid syntax (3375838590.py, line 1)",
     "output_type": "error",
     "traceback": [
      "\u001b[0;36m  Input \u001b[0;32mIn [2]\u001b[0;36m\u001b[0m\n\u001b[0;31m    training validation split same.\u001b[0m\n\u001b[0m             ^\u001b[0m\n\u001b[0;31mSyntaxError\u001b[0m\u001b[0;31m:\u001b[0m invalid syntax\n"
     ]
    }
   ],
   "source": [
    "training validation split same."
   ]
  },
  {
   "cell_type": "code",
   "execution_count": 3,
   "id": "8e6dc527",
   "metadata": {},
   "outputs": [
    {
     "ename": "SyntaxError",
     "evalue": "invalid syntax (781254998.py, line 1)",
     "output_type": "error",
     "traceback": [
      "\u001b[0;36m  Input \u001b[0;32mIn [3]\u001b[0;36m\u001b[0m\n\u001b[0;31m    next OOD\u001b[0m\n\u001b[0m         ^\u001b[0m\n\u001b[0;31mSyntaxError\u001b[0m\u001b[0;31m:\u001b[0m invalid syntax\n"
     ]
    }
   ],
   "source": [
    "next OOD"
   ]
  },
  {
   "cell_type": "code",
   "execution_count": 4,
   "id": "2ea23047",
   "metadata": {},
   "outputs": [
    {
     "ename": "SyntaxError",
     "evalue": "invalid syntax (2853597383.py, line 1)",
     "output_type": "error",
     "traceback": [
      "\u001b[0;36m  Input \u001b[0;32mIn [4]\u001b[0;36m\u001b[0m\n\u001b[0;31m    drop out traing model use that for validating lung cancer slides and do predictions on BRCA as well\u001b[0m\n\u001b[0m         ^\u001b[0m\n\u001b[0;31mSyntaxError\u001b[0m\u001b[0;31m:\u001b[0m invalid syntax\n"
     ]
    }
   ],
   "source": [
    "drop out traing model use that for validating lung cancer slides and do predictions on BRCA as well"
   ]
  },
  {
   "cell_type": "code",
   "execution_count": null,
   "id": "3bfdf037",
   "metadata": {},
   "outputs": [],
   "source": []
  },
  {
   "cell_type": "code",
   "execution_count": null,
   "id": "49e354ba",
   "metadata": {},
   "outputs": [],
   "source": []
  },
  {
   "cell_type": "code",
   "execution_count": 6,
   "id": "dc6a2acf",
   "metadata": {},
   "outputs": [
    {
     "ename": "SyntaxError",
     "evalue": "invalid syntax (2356850374.py, line 1)",
     "output_type": "error",
     "traceback": [
      "\u001b[0;36m  Input \u001b[0;32mIn [6]\u001b[0;36m\u001b[0m\n\u001b[0;31m    0(LUNG) in 1(B) out\u001b[0m\n\u001b[0m                    ^\u001b[0m\n\u001b[0;31mSyntaxError\u001b[0m\u001b[0;31m:\u001b[0m invalid syntax\n"
     ]
    }
   ],
   "source": [
    "0(LUNG) in 1(B) out\n",
    "\n",
    "pred is unc"
   ]
  },
  {
   "cell_type": "code",
   "execution_count": null,
   "id": "22e35b92",
   "metadata": {},
   "outputs": [],
   "source": [
    "ou"
   ]
  }
 ],
 "metadata": {
  "kernelspec": {
   "display_name": "Python [conda env:sf]",
   "language": "python",
   "name": "conda-env-sf-py"
  },
  "language_info": {
   "codemirror_mode": {
    "name": "ipython",
    "version": 3
   },
   "file_extension": ".py",
   "mimetype": "text/x-python",
   "name": "python",
   "nbconvert_exporter": "python",
   "pygments_lexer": "ipython3",
   "version": "3.8.13"
  }
 },
 "nbformat": 4,
 "nbformat_minor": 5
}
